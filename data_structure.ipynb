{
  "nbformat": 4,
  "nbformat_minor": 0,
  "metadata": {
    "colab": {
      "provenance": []
    },
    "kernelspec": {
      "name": "python3",
      "display_name": "Python 3"
    },
    "language_info": {
      "name": "python"
    }
  },
  "cells": [
    {
      "cell_type": "code",
      "execution_count": null,
      "metadata": {
        "id": "fEt_XPDwJlba"
      },
      "outputs": [],
      "source": []
    },
    {
      "cell_type": "markdown",
      "source": [
        "Q1. **What are data structures, and why are they important?**\n",
        "\n",
        "   - Data structures are ways of organizing and storing data to enable efficient access and modification. In Python, data structures help manage and process data efficiently.\n",
        "\n",
        "Q2. **Explain the difference between mutable and immutable data types with examples**\n",
        "\n",
        " -  Mutable data types can be changed after creation, meaning their contents can be modified. Examples:\n",
        "\n",
        "\n",
        "my_list = [1, 2, 3]  \n",
        "my_list.append(4)  # List is modified\n",
        "\n",
        " - Immutable data types cannot be changed after creation; any modification creates a new object.\n",
        "\n",
        " Examples:\n",
        "\n",
        "\n",
        "my_tuple = (1, 2, 3)  \n",
        "my_tuple[0] = 4  # This will raise an error\n",
        "\n",
        "\n",
        "Q3.**What are the main differences between lists and tuples in Python?**\n",
        "\n",
        "   - The main difference between tuples and lists is that tuples are immutable, meaning their contents cannot be changed after creation, while lists are mutable and can be modified. Additionally, tuples are more memory-efficient compared to lists.\n",
        "\n",
        "Q4. **Describe how dictionaries store data**\n",
        "\n",
        "  - Dictionaries are used to store data values in key:value pairs. A dictionary is a collection which is ordered*, changeable and do not allow duplicates. As of Python version 3.7, dictionaries are ordered. In Python 3.6 and earlier, dictionaries are unordered.\n",
        "\n",
        "Q5.**Why might you use a set instead of a list in Python?**\n",
        "   - Sets are another standard Python data type that also store values. The major difference is that sets, unlike lists or tuples, cannot have multiple occurrences of the same element and store unordered values.\n",
        "\n",
        "Q6.**What is a string in Python, and how is it different from a list?**\n",
        "\n",
        "  - Strings in Python are sequences of characters enclosed in quotes ('' or “”). Lists are ordered collections of items enclosed in square brackets []. 2) Strings are immutable, meaning they cannot be changed once created, while lists are mutable and can be modified as needed.\n",
        "\n",
        "Q7.**How do tuples ensure data integrity in Python?**\n",
        "\n",
        "  - Python Tuple is a collection of objects separated by commas. A tuple is similar to a Python list in terms of indexing, nested objects, and repetition but the main difference between both is Python tuple is immutable, unlike the Python list which is mutable.\n",
        "\n",
        "Q8.**What is a hash table, and how does it relate to dictionaries in Python?**\n",
        "\n",
        "  - A hash table is a data structure that allows you to store a collection of key-value pairs. In a hash table, the key of every key-value pair must be hashable, because the pairs stored are indexed by using the hash of their keys.\n",
        "\n",
        "Q9.**Can lists contain different data types in Python**\n",
        "\n",
        "  - Although it's not really common, a list can also contain a mix of Python types including strings, floats, and booleans.\n",
        "\n",
        "Q10.**Explain why strings are immutable in Python**\n",
        "  - Strings in Python are immutable, meaning once created, they cannot be modified. This design choice has several benefits:Memory Efficiency – Since strings are immutable, Python can store and reuse them efficiently, reducing memory usage.\n",
        "\n",
        "Q11.**What advantages do dictionaries offer over lists for certain tasks**\n",
        "\n",
        "  - Dictionaries are faster than lists for tasks that involve searching for items, or looking up values. Dictionaries are also more flexible and can store more complex data structures.\n",
        "\n",
        "Q12.**Describe a scenario where using a tuple would be preferable over a list**\n",
        "\n",
        " - Use a tuple if you need an immutable collection where the elements won't change after creation. Tuples are generally faster and more memory-efficient than lists, making them better for fixed collections, especially as dictionary keys or when iteration speed is crucial.\n",
        "\n",
        "Q13.**How do sets handle duplicate values in Python?**\n",
        " - Sets do not allow duplicate items, they are unordered, and the items stored in them cannot be modified.\n",
        "\n",
        "Q14.**How does the “in” keyword work differently for lists and dictionaries?**\n",
        " - In Lists (list) – Checks for Element Presence\n",
        "\n",
        "- The in keyword checks if a value exists in the list by iterating through each element.\n",
        "\n",
        " my_list = [1, 2, 3, 4]\n",
        "print(2 in my_list)  # True (checks for value)\n",
        "print(5 in my_list)  # False\n",
        "\n",
        "  - In Dictionaries (dict) – Checks for Key Presence\n",
        "\n",
        " The in keyword checks only for the presence of a key, not values.\n",
        "\n",
        " my_dict = {\"name\": \"Alice\", \"age\": 25}\n",
        "print(\"name\" in my_dict)  # True (checks for key)\n",
        "print(\"Alice\" in my_dict)  # False (does not check values)\n",
        "\n",
        "Q15.**Can you modify the elements of a tuple? Explain why or why not**\n",
        " - Tuples, unlike lists, are immutable. This means that once a tuple's elements have been allocated, they cannot be modified. However, if the element is a changeable data type, such as a list, its nested components can be altered.\n",
        "\n",
        " No, you cannot modify the elements of a tuple in Python because tuples are \"immutable,\" meaning once created, their elements cannot be changed, added, or removed; if you try to alter a tuple element, you will receive a TypeError erro\n",
        "\n",
        "Q16.**What is a nested dictionary, and give an example of its use case?**\n",
        "\n",
        "- In Python, a nested dictionary is a dictionary inside a dictionary. It's a collection of dictionaries into one single dictionary. Here, the nested_dict is a nested dictionary with the dictionary dictA and dictB . They are two dictionary each having own key and value.\n",
        "\n",
        "Q17.**Describe the time complexity of accessing elements in a dictionary**\n",
        "\n",
        "- The time complexity of accessing an element in a Python dictionary is O(1) on average, but can be O(n) in the worst case. The worst case occurs when there are many hash collisions or when the dictionary needs to be resized.\n",
        "\n",
        "Q18.**In what situations are lists preferred over dictionaries?**\n",
        " - For quick data look-ups, configurations, or caches, favor dictionaries. For ordered collections and sequence operations, such as maintaining a stack or queue, lists are more suitable.\n",
        "\n",
        "Q19.**Why are dictionaries considered unordered, and how does that affect data retrieval?**\n",
        "\n",
        " - Dictionaries were traditionally unordered because they stored key-value pairs using hash tables, where elements were placed in arbitrary positions based on their hash values. However, since Python 3.7, dictionaries maintain insertion order, but they are still conceptually unordered because their internal storage does not rely on sequential indexing like lists.\n",
        "\n",
        "Q20.**Explain the difference between a list and a dictionary in terms of data retrieval.**\n",
        " - In Python, the difference between data retrieval in a list and a dictionary is that lists use indices to access elements, while dictionaries use keys.\n",
        "  \n",
        "  -Lists\n",
        "Lists are ordered collections of items.\n",
        "Elements in a list are accessed using indices, which are integers that start at zero.\n",
        "Lists are good for ordered operations like sorting.\n",
        "Lists can contain duplicate items.\n",
        "\n",
        "  -Dictionaries\n",
        "Dictionaries are unordered collections of key-value pairs.\n",
        "Elements in a dictionary are accessed using keys, which can be of any data type.\n",
        "Dictionaries are good for lookup operations.\n",
        "Dictionaries do not allow duplicate keys.\n",
        "Use cases\n",
        "Lists are good for ordered collections, like a sequence of user actions.\n",
        "Dictionaries are good for quick lookups, like mapping usernames to user data."
      ],
      "metadata": {
        "id": "THbi8gbxJqlq"
      }
    },
    {
      "cell_type": "code",
      "source": [
        "#Q1 . Write a code to create a string with your name and print it\n",
        "s1 = 'Archana'\n",
        "s2 = \"Yadav\"\n",
        "print(s1)\n",
        "print(s2)\n"
      ],
      "metadata": {
        "colab": {
          "base_uri": "https://localhost:8080/"
        },
        "id": "dZflQ1QhPyhf",
        "outputId": "392d8e4a-4032-4975-9936-b10948f5d068"
      },
      "execution_count": 1,
      "outputs": [
        {
          "output_type": "stream",
          "name": "stdout",
          "text": [
            "Archana\n",
            "Yadav\n"
          ]
        }
      ]
    },
    {
      "cell_type": "code",
      "source": [
        "#Q2.Write a code to find the length of the string \"Hello World\"\n",
        "name  = \"Archana yadav\"\n",
        "print(len(name))"
      ],
      "metadata": {
        "colab": {
          "base_uri": "https://localhost:8080/"
        },
        "id": "SKgDYbdzQS0Y",
        "outputId": "62bb73f7-4603-4b7b-a482-97eb416dee6b"
      },
      "execution_count": 2,
      "outputs": [
        {
          "output_type": "stream",
          "name": "stdout",
          "text": [
            "13\n"
          ]
        }
      ]
    },
    {
      "cell_type": "code",
      "source": [
        "#Q3.Write a code to slice the first 3 characters from the string \"Python Programming\n",
        "name = \"Python Programming\"\n",
        "print(name[0:3])"
      ],
      "metadata": {
        "colab": {
          "base_uri": "https://localhost:8080/"
        },
        "id": "8Hi7R5OnQqWO",
        "outputId": "acd8a715-dba9-4b65-f99e-2a3c077d964e"
      },
      "execution_count": 3,
      "outputs": [
        {
          "output_type": "stream",
          "name": "stdout",
          "text": [
            "Pyt\n"
          ]
        }
      ]
    },
    {
      "cell_type": "code",
      "source": [
        "#Q4. Write a code to convert the string \"hello\" to uppercase\n",
        "name = \"hello\"\n",
        "print(name.upper())"
      ],
      "metadata": {
        "colab": {
          "base_uri": "https://localhost:8080/"
        },
        "id": "XF8f-vCgQqiu",
        "outputId": "269d1131-cb53-4d40-84f9-70cedc821a83"
      },
      "execution_count": 4,
      "outputs": [
        {
          "output_type": "stream",
          "name": "stdout",
          "text": [
            "HELLO\n"
          ]
        }
      ]
    },
    {
      "cell_type": "code",
      "source": [
        "#Q5.Write a code to replace the word \"apple\" with \"orange\" in the string \"I like apple\n",
        "name = \"I like apple\"\n",
        "print(name.replace(\"apple\",\"orange\"))"
      ],
      "metadata": {
        "colab": {
          "base_uri": "https://localhost:8080/"
        },
        "id": "IoagM2fHQql5",
        "outputId": "979ea6dc-7258-4ab5-84db-f4d41511f9f9"
      },
      "execution_count": 5,
      "outputs": [
        {
          "output_type": "stream",
          "name": "stdout",
          "text": [
            "I like orange\n"
          ]
        }
      ]
    },
    {
      "cell_type": "code",
      "source": [
        "#Q6.Write a code to create a list with numbers 1 to 5 and print it.\n",
        "list = [1,2,3,4,5]\n",
        "print(list)"
      ],
      "metadata": {
        "colab": {
          "base_uri": "https://localhost:8080/"
        },
        "id": "9tiP6QquQqpQ",
        "outputId": "0bf39442-23ba-45e6-c6e2-282fc157cdd7"
      },
      "execution_count": 6,
      "outputs": [
        {
          "output_type": "stream",
          "name": "stdout",
          "text": [
            "[1, 2, 3, 4, 5]\n"
          ]
        }
      ]
    },
    {
      "cell_type": "code",
      "source": [
        "#Q7. Write a code to append the number 10 to the list [1, 2, 3, 4]\n",
        "list = [1,2,3,4]\n",
        "list.append(10)\n",
        "print(list)"
      ],
      "metadata": {
        "colab": {
          "base_uri": "https://localhost:8080/"
        },
        "id": "QJg2XWrdRNIR",
        "outputId": "43cc55cf-9619-45d9-e66a-99bab4959745"
      },
      "execution_count": 7,
      "outputs": [
        {
          "output_type": "stream",
          "name": "stdout",
          "text": [
            "[1, 2, 3, 4, 10]\n"
          ]
        }
      ]
    },
    {
      "cell_type": "code",
      "source": [
        "#Q.8 Write a code to remove the number 3 from the list [1, 2, 3, 4, 5]\n",
        "list = [1,2,3,4,5]\n",
        "list.remove(3)\n",
        "print(list)\n"
      ],
      "metadata": {
        "colab": {
          "base_uri": "https://localhost:8080/"
        },
        "id": "nM1qj8wXRNLS",
        "outputId": "68e7f355-a237-4238-b486-9e3ce86bd119"
      },
      "execution_count": 9,
      "outputs": [
        {
          "output_type": "stream",
          "name": "stdout",
          "text": [
            "[1, 2, 4, 5]\n"
          ]
        }
      ]
    },
    {
      "cell_type": "code",
      "source": [
        "#Q.9 Write a code to access the second element in the list ['a', 'b', 'c', 'd']\n",
        "list = ['a','b','c','d']\n",
        "print(list[1])"
      ],
      "metadata": {
        "colab": {
          "base_uri": "https://localhost:8080/"
        },
        "id": "dpfzx2F5RNNf",
        "outputId": "7d3fd415-a562-4f04-8133-7bfdacea3f19"
      },
      "execution_count": 10,
      "outputs": [
        {
          "output_type": "stream",
          "name": "stdout",
          "text": [
            "b\n"
          ]
        }
      ]
    },
    {
      "cell_type": "code",
      "source": [
        "#Q.10 Write a code to reverse the list [10, 20, 30, 40, 50]\n",
        "list = [10,20,30,40,50]\n",
        "list.reverse()\n",
        "print(list)"
      ],
      "metadata": {
        "colab": {
          "base_uri": "https://localhost:8080/"
        },
        "id": "H4d-pGrTRNP4",
        "outputId": "c3f731b0-9602-4d9b-feda-a4952e447a35"
      },
      "execution_count": 11,
      "outputs": [
        {
          "output_type": "stream",
          "name": "stdout",
          "text": [
            "[50, 40, 30, 20, 10]\n"
          ]
        }
      ]
    },
    {
      "cell_type": "code",
      "source": [
        "#Q.11  Write a code to create a tuple with the elements 100, 200, 300 and print it.\n",
        "tuple = (100,200,300)\n",
        "print(tuple)"
      ],
      "metadata": {
        "colab": {
          "base_uri": "https://localhost:8080/"
        },
        "id": "MI6fDsMrRNSm",
        "outputId": "1cbd7207-287e-4fc2-ab25-9ae7a204654e"
      },
      "execution_count": 12,
      "outputs": [
        {
          "output_type": "stream",
          "name": "stdout",
          "text": [
            "(100, 200, 300)\n"
          ]
        }
      ]
    },
    {
      "cell_type": "code",
      "source": [
        "#Q.12 Write a code to access the second-to-last element of the tuple ('red', 'green', 'blue', 'yellow').\n",
        "tuple = ('red', 'green', 'blue', 'yellow')\n",
        "print(tuple[-2])\n",
        "\n",
        ""
      ],
      "metadata": {
        "colab": {
          "base_uri": "https://localhost:8080/"
        },
        "id": "pRTsu6Y0RNVe",
        "outputId": "fd49303f-c002-402a-d09a-7fe3bdb91b51"
      },
      "execution_count": 13,
      "outputs": [
        {
          "output_type": "stream",
          "name": "stdout",
          "text": [
            "blue\n"
          ]
        }
      ]
    },
    {
      "cell_type": "code",
      "source": [
        "#Q.13  Write a code to find the minimum number in the tuple (10, 20, 5, 15).\n",
        "tuple = (10,20,5,15)\n",
        "print(min(tuple))\n"
      ],
      "metadata": {
        "colab": {
          "base_uri": "https://localhost:8080/"
        },
        "id": "OeWLUxOgRNY8",
        "outputId": "fccf37d8-0116-4022-aa72-f3a0264f36ad"
      },
      "execution_count": 14,
      "outputs": [
        {
          "output_type": "stream",
          "name": "stdout",
          "text": [
            "5\n"
          ]
        }
      ]
    },
    {
      "cell_type": "code",
      "source": [
        "#Q.14 . Write a code to find the index of the element \"cat\" in the tuple ('dog', 'cat', 'rabbit').\n",
        "tuple = ('dog', 'cat', 'rabbit')\n",
        "print(tuple.index('cat'))"
      ],
      "metadata": {
        "colab": {
          "base_uri": "https://localhost:8080/"
        },
        "id": "Wy4I48EhSSmK",
        "outputId": "4655d11b-3d34-4ccc-8d6b-9d8302674064"
      },
      "execution_count": 15,
      "outputs": [
        {
          "output_type": "stream",
          "name": "stdout",
          "text": [
            "1\n"
          ]
        }
      ]
    },
    {
      "cell_type": "code",
      "source": [
        "#Q.15  Write a code to create a tuple containing three different fruits and check if \"kiwi\" is in it\n",
        "tuple = ('apple','banana','kiwi')\n",
        "print('kiwi' in tuple)"
      ],
      "metadata": {
        "colab": {
          "base_uri": "https://localhost:8080/"
        },
        "id": "8e8AGFohSSs2",
        "outputId": "c3f0f7fb-4a65-4f9c-b3a6-93021ceea696"
      },
      "execution_count": 16,
      "outputs": [
        {
          "output_type": "stream",
          "name": "stdout",
          "text": [
            "True\n"
          ]
        }
      ]
    },
    {
      "cell_type": "code",
      "source": [
        "#Q.16  Write a code to create a set with the elements 'a', 'b', 'c' and print it.\n",
        "set = {'a','b','c'}\n",
        "print(set)"
      ],
      "metadata": {
        "colab": {
          "base_uri": "https://localhost:8080/"
        },
        "id": "Ni5E-4NnSSvq",
        "outputId": "a7f309db-ef96-49d6-94d6-59e7001451c2"
      },
      "execution_count": 17,
      "outputs": [
        {
          "output_type": "stream",
          "name": "stdout",
          "text": [
            "{'b', 'c', 'a'}\n"
          ]
        }
      ]
    },
    {
      "cell_type": "code",
      "source": [
        "#Q.17  Write a code to clear all elements from the set {1, 2, 3, 4, 5}.\n",
        "set = {1,2,3,4,5}\n",
        "set.clear()\n",
        "print(set)"
      ],
      "metadata": {
        "colab": {
          "base_uri": "https://localhost:8080/"
        },
        "id": "oL1yIaFZSSyL",
        "outputId": "76610b87-1fad-48e7-f859-9a8278585de1"
      },
      "execution_count": 18,
      "outputs": [
        {
          "output_type": "stream",
          "name": "stdout",
          "text": [
            "set()\n"
          ]
        }
      ]
    },
    {
      "cell_type": "code",
      "source": [
        "#Q.18 Write a code to remove the element 4 from the set {1, 2, 3, 4}.\n",
        "set = {1,2,3,4}\n",
        "set.remove(4)\n",
        "print(set)"
      ],
      "metadata": {
        "colab": {
          "base_uri": "https://localhost:8080/"
        },
        "id": "ZlYvn1d9SS10",
        "outputId": "30fe2ce9-a87f-4d6a-c6b7-97ed96b66d6b"
      },
      "execution_count": 19,
      "outputs": [
        {
          "output_type": "stream",
          "name": "stdout",
          "text": [
            "{1, 2, 3}\n"
          ]
        }
      ]
    },
    {
      "cell_type": "code",
      "source": [
        "#Q.19  Write a code to find the union of two sets {1, 2, 3} and {3, 4, 5}.\n",
        "set1 = {1,2,3}\n",
        "set2 = {3,4,5}\n",
        "print(set1.union(set2))"
      ],
      "metadata": {
        "colab": {
          "base_uri": "https://localhost:8080/"
        },
        "id": "dBODxbEBS4pa",
        "outputId": "96cbc95e-23fe-4b82-b277-7605f8f7663c"
      },
      "execution_count": 20,
      "outputs": [
        {
          "output_type": "stream",
          "name": "stdout",
          "text": [
            "{1, 2, 3, 4, 5}\n"
          ]
        }
      ]
    },
    {
      "cell_type": "code",
      "source": [
        "#Q.20 Write a code to find the intersection of two sets {1, 2, 3} and {2, 3, 4}.\n",
        "set1 = {1,2,3}\n",
        "set2 = {2,3,4}\n",
        "print(set1.intersection(set2))"
      ],
      "metadata": {
        "colab": {
          "base_uri": "https://localhost:8080/"
        },
        "id": "LiLUssbgS4sF",
        "outputId": "957f1c55-b167-4a6c-ff35-8429c644f026"
      },
      "execution_count": 21,
      "outputs": [
        {
          "output_type": "stream",
          "name": "stdout",
          "text": [
            "{2, 3}\n"
          ]
        }
      ]
    },
    {
      "cell_type": "code",
      "source": [
        "#Q.21  Write a code to create a dictionary with the keys \"name\", \"age\", and \"city\", and print it.\n",
        "person = {\n",
        "    \"name\": \"Archana yadav\",\n",
        "    \"age\": 25,\n",
        "    \"city\": \"New Delhi \"\n",
        "}\n",
        "\n",
        "# Printing the dictionary\n",
        "print(person)\n",
        "\n"
      ],
      "metadata": {
        "colab": {
          "base_uri": "https://localhost:8080/"
        },
        "id": "LBEJ021DS4uw",
        "outputId": "cb0919ed-7577-46c8-86a3-a82829606b77"
      },
      "execution_count": 22,
      "outputs": [
        {
          "output_type": "stream",
          "name": "stdout",
          "text": [
            "{'name': 'Archana yadav', 'age': 25, 'city': 'New Delhi '}\n"
          ]
        }
      ]
    },
    {
      "cell_type": "code",
      "source": [
        "#Q.22 Write a code to add a new key-value pair \"country\": \"USA\" to the dictionary {'name': 'John', 'age': 25}\n",
        "person = {\n",
        "    \"name\": \"Archana yadav\",\n",
        "    \"age\": 25,\n",
        "    \"city\": \"New Delhi \"\n",
        "}\n",
        "person[\"country\"] = \"USA\"\n",
        "print(person)"
      ],
      "metadata": {
        "colab": {
          "base_uri": "https://localhost:8080/"
        },
        "id": "re0iGcHWS4w8",
        "outputId": "686ca81d-2fd1-47c1-b519-b9e26b656bbe"
      },
      "execution_count": 23,
      "outputs": [
        {
          "output_type": "stream",
          "name": "stdout",
          "text": [
            "{'name': 'Archana yadav', 'age': 25, 'city': 'New Delhi ', 'country': 'USA'}\n"
          ]
        }
      ]
    },
    {
      "cell_type": "code",
      "source": [
        "#Q.23 Write a code to access the value associated with the key \"name\" in the dictionary {'name': 'Alice', 'age': 30}.\n",
        "person = {\n",
        "    \"name\": \"Archana yadav\",\n",
        "    \"age\": 25,\n",
        "    \"city\": \"New Delhi \"\n",
        "}\n",
        "print(person[\"name\"])"
      ],
      "metadata": {
        "colab": {
          "base_uri": "https://localhost:8080/"
        },
        "id": "u3npiegOS4zg",
        "outputId": "3be58166-cd12-40de-ce6b-0720564c26cd"
      },
      "execution_count": 24,
      "outputs": [
        {
          "output_type": "stream",
          "name": "stdout",
          "text": [
            "Archana yadav\n"
          ]
        }
      ]
    },
    {
      "cell_type": "code",
      "source": [
        "#Q.24  Write a code to remove the key \"age\" from the dictionary {'name': 'Bob', 'age': 22, 'city': 'New York'}.\n",
        "person = {\n",
        "    \"name\": \"Archana yadav\",\n",
        "    \"age\": 25,\n",
        "    \"city\": \"New Delhi \"\n",
        "}\n",
        "del person[\"age\"]\n",
        "print(person)"
      ],
      "metadata": {
        "colab": {
          "base_uri": "https://localhost:8080/"
        },
        "id": "EMTYbprSS422",
        "outputId": "9bc6d405-3e33-47e3-9708-5970d1e2fad1"
      },
      "execution_count": 25,
      "outputs": [
        {
          "output_type": "stream",
          "name": "stdout",
          "text": [
            "{'name': 'Archana yadav', 'city': 'New Delhi '}\n"
          ]
        }
      ]
    },
    {
      "cell_type": "code",
      "source": [
        "#Q.25  Write a code to check if the key \"city\" exists in the dictionary {'name': 'Alice', 'city': 'Paris'}\n",
        "person = {\n",
        "    \"name\": \"Archana yadav\",\n",
        "    \"age\": 25,\n",
        "    \"city\": \"New Delhi \"\n",
        "}\n",
        "print(\"city\" in person)"
      ],
      "metadata": {
        "colab": {
          "base_uri": "https://localhost:8080/"
        },
        "id": "k61LvZVtUD9w",
        "outputId": "b4f6231f-bcbc-4c28-9ba8-1fdf5c131562"
      },
      "execution_count": 26,
      "outputs": [
        {
          "output_type": "stream",
          "name": "stdout",
          "text": [
            "True\n"
          ]
        }
      ]
    },
    {
      "cell_type": "code",
      "source": [
        "#Q.26  Write a code to create a list, a tuple, and a dictionary, and print them all.\n",
        "list = [1,2,3,4]\n",
        "print(list)\n",
        "tuple = (1,2,3,4)\n",
        "print(tuple)\n",
        "person = {\n",
        "    \"name\": \"Archana yadav\",\n",
        "    \"age\": 25,\n",
        "    \"city\": \"New Delhi \"\n",
        "}\n",
        "print(person)"
      ],
      "metadata": {
        "colab": {
          "base_uri": "https://localhost:8080/"
        },
        "id": "5YNWn4EZUEf0",
        "outputId": "6933df98-c545-4d6b-e6e1-dd2f216feaa5"
      },
      "execution_count": 28,
      "outputs": [
        {
          "output_type": "stream",
          "name": "stdout",
          "text": [
            "[1, 2, 3, 4]\n",
            "(1, 2, 3, 4)\n",
            "{'name': 'Archana yadav', 'age': 25, 'city': 'New Delhi '}\n"
          ]
        }
      ]
    },
    {
      "cell_type": "code",
      "source": [
        "'''Q.27  Write a code to create a list of 5 random numbers between 1 and 100, sort it in ascending order, and print the\n",
        "result.(replaced)'''\n",
        "import random\n",
        "random_numbers = [random.randint(1, 100) for _ in range(5)]\n",
        "random_numbers.sort()\n",
        "print(random_numbers)\n"
      ],
      "metadata": {
        "colab": {
          "base_uri": "https://localhost:8080/"
        },
        "id": "P_3G7tqRUEzY",
        "outputId": "bd3dc937-6486-4c63-c073-a14ca8df557c"
      },
      "execution_count": 29,
      "outputs": [
        {
          "output_type": "stream",
          "name": "stdout",
          "text": [
            "[8, 47, 53, 53, 80]\n"
          ]
        }
      ]
    },
    {
      "cell_type": "code",
      "source": [
        "#Q.28  Write a code to create a list with strings and print the element at the third index.\n",
        "my_list = [\"apple\", \"banana\", \"cherry\", \"date\", \"elderberry\"]\n",
        "\n",
        "# Printing the element at the third index (4th element)\n",
        "print(my_list[2])"
      ],
      "metadata": {
        "colab": {
          "base_uri": "https://localhost:8080/"
        },
        "id": "vh3-qe2oUE_k",
        "outputId": "ca969f17-ec91-4ca3-d89f-20e69c602f17"
      },
      "execution_count": 31,
      "outputs": [
        {
          "output_type": "stream",
          "name": "stdout",
          "text": [
            "cherry\n"
          ]
        }
      ]
    },
    {
      "cell_type": "code",
      "source": [
        "#Q.29  Write a code to combine two dictionaries into one and print the result.\n",
        "dict1 = {'a': 1, 'b': 2}\n",
        "dict2 = {'c': 3, 'd': 4}\n",
        "\n",
        "# Combining the dictionaries\n",
        "combined_dict = {**dict1, **dict2}\n",
        "\n",
        "# Printing the combined dictionary\n",
        "print(combined_dict)"
      ],
      "metadata": {
        "colab": {
          "base_uri": "https://localhost:8080/"
        },
        "id": "KQPFPtxjUFKx",
        "outputId": "71d02493-3380-4414-8386-2dc35cc343d1"
      },
      "execution_count": 33,
      "outputs": [
        {
          "output_type": "stream",
          "name": "stdout",
          "text": [
            "{'a': 1, 'b': 2, 'c': 3, 'd': 4}\n"
          ]
        }
      ]
    },
    {
      "cell_type": "code",
      "source": [
        "#Q.30  Write a code to convert a list of strings into a set.\n",
        "my_list = [\"apple\", \"banana\", \"cherry\", \"date\", \"elderberry\"]\n",
        "\n",
        "my_set = set(my_list)\n",
        "\n",
        "print(my_set)\n",
        "\n",
        "\n",
        "\n",
        "\n",
        "\n",
        "\n",
        "\n"
      ],
      "metadata": {
        "colab": {
          "base_uri": "https://localhost:8080/",
          "height": 211
        },
        "id": "7ol8f4zYUFUq",
        "outputId": "77fcc4be-599b-4589-afbc-126df735f701"
      },
      "execution_count": 43,
      "outputs": [
        {
          "output_type": "error",
          "ename": "TypeError",
          "evalue": "'set' object is not callable",
          "traceback": [
            "\u001b[0;31m---------------------------------------------------------------------------\u001b[0m",
            "\u001b[0;31mTypeError\u001b[0m                                 Traceback (most recent call last)",
            "\u001b[0;32m<ipython-input-43-ab99c5bee368>\u001b[0m in \u001b[0;36m<cell line: 0>\u001b[0;34m()\u001b[0m\n\u001b[1;32m      1\u001b[0m \u001b[0;31m#Q.30  Write a code to convert a list of strings into a set.\u001b[0m\u001b[0;34m\u001b[0m\u001b[0;34m\u001b[0m\u001b[0m\n\u001b[1;32m      2\u001b[0m \u001b[0mmy_list\u001b[0m \u001b[0;34m=\u001b[0m \u001b[0;34m[\u001b[0m\u001b[0;34m\"apple\"\u001b[0m\u001b[0;34m,\u001b[0m \u001b[0;34m\"banana\"\u001b[0m\u001b[0;34m,\u001b[0m \u001b[0;34m\"cherry\"\u001b[0m\u001b[0;34m,\u001b[0m \u001b[0;34m\"date\"\u001b[0m\u001b[0;34m,\u001b[0m \u001b[0;34m\"elderberry\"\u001b[0m\u001b[0;34m]\u001b[0m\u001b[0;34m\u001b[0m\u001b[0;34m\u001b[0m\u001b[0m\n\u001b[0;32m----> 3\u001b[0;31m \u001b[0ml\u001b[0m \u001b[0;34m=\u001b[0m \u001b[0mset\u001b[0m\u001b[0;34m(\u001b[0m\u001b[0mmy_list\u001b[0m\u001b[0;34m)\u001b[0m\u001b[0;34m\u001b[0m\u001b[0;34m\u001b[0m\u001b[0m\n\u001b[0m\u001b[1;32m      4\u001b[0m \u001b[0mprint\u001b[0m\u001b[0;34m(\u001b[0m\u001b[0ml\u001b[0m\u001b[0;34m)\u001b[0m\u001b[0;34m\u001b[0m\u001b[0;34m\u001b[0m\u001b[0m\n\u001b[1;32m      5\u001b[0m \u001b[0;34m\u001b[0m\u001b[0m\n",
            "\u001b[0;31mTypeError\u001b[0m: 'set' object is not callable"
          ]
        }
      ]
    }
  ]
}