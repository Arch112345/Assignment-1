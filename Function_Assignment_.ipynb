{
  "nbformat": 4,
  "nbformat_minor": 0,
  "metadata": {
    "colab": {
      "provenance": []
    },
    "kernelspec": {
      "name": "python3",
      "display_name": "Python 3"
    },
    "language_info": {
      "name": "python"
    }
  },
  "cells": [
    {
      "cell_type": "code",
      "execution_count": null,
      "metadata": {
        "id": "NxfTahk9DUsV"
      },
      "outputs": [],
      "source": []
    },
    {
      "cell_type": "markdown",
      "source": [],
      "metadata": {
        "id": "aOIP2XyMDcfx"
      }
    },
    {
      "cell_type": "markdown",
      "source": [
        "**Q1. What is the difference between a function and a method in Python?**\n",
        "  -  Function\n",
        " A function is a block of reusable code that is defined using the def keyword and can be called independently. Functions can take arguments, perform operations, and return values. They are not tied to any specific object.\n",
        "\n",
        "**Example of a Function:**\n",
        "\n",
        "  \n",
        "  def greet(name):\n",
        "  \n",
        "    return f\"Hello, {name}!\"\n",
        "\n",
        " print(greet(\"Alice\"))  # Output: Hello, Alice!\n",
        "  \n",
        "   Here, greet is a function that takes name as an argument and returns a greeting string. It is not associated with any object.\n",
        "\n",
        "  2. Method\n",
        " A method is similar to a function but is associated with an object. Methods are functions that belong to a class and operate on the instance (or class) of that class. They are called using the dot notation.\n",
        "\n",
        "** Example of a Method:**\n",
        "\n",
        "\n",
        " class Person:\n",
        "   \n",
        "    def __init__(self, name):\n",
        "        \n",
        "         self.name = name\n",
        "\n",
        "    def greet(self):\n",
        "\n",
        "        return f\"Hello, my name is {self.name}!\"\n",
        "\n",
        " p = Person(\"Bob\")\n",
        "  \n",
        "  print(p.greet())  # Output: Hello, my name is Bob!\n",
        "\n",
        " Here, greet is a method because it is defined inside the Person class and operates on an instance of that class.\n",
        "\n",
        "**Q2.Explain the concept of function arguments and parameters in Python.**\n",
        "\n",
        " -  Python, functions can accept inputs called parameters and arguments. These help in making functions dynamic and reusable.\n",
        "\n",
        " 1. Parameters vs. Arguments\n",
        " Parameters: Variables listed inside the function definition.\n",
        " Arguments: Actual values passed to a function when calling it.\n",
        "\n",
        " Example:\n",
        "  \n",
        "  def add(a, b):  # 'a' and 'b' are parameters\n",
        "    \n",
        "    return a + b\n",
        "\n",
        "result = add(3, 5)  # '3' and '5' are arguments\n",
        "\n",
        " print(result)\n",
        "\n",
        " **Q3 What are the different ways to define and call a function in Python?**\n",
        " - In Python, functions can be defined and called in multiple ways. Here are the main methods:\n",
        "\n",
        " 1. Using def (Regular Function Definition)\n",
        "\n",
        " def greet(name):\n",
        "    return f\"Hello, {name}!\"\n",
        "\n",
        "\n",
        " print(greet(\"Alice\"))\n",
        " 2. Using lambda (Anonymous Function)\n",
        "\n",
        " greet = lambda name: f\"Hello, {name}!\"\n",
        "\n",
        "\n",
        "\n",
        " print(greet(\"Bob\"))\n",
        "\n",
        "3. Using functools.partial (Partial Function Application)\n",
        "\n",
        " from functools import partial\n",
        "\n",
        " def power(base, exponent):\n",
        "   \n",
        "    return base ** exponent\n",
        "\n",
        " square = partial(power, exponent=2)  # Fix exponent to 2\n",
        "\n",
        "\n",
        " print(square(5))  # 5^2 = 25\n",
        "\n",
        "**Q4. What is the purpose of the `return` statement in a Python function?**\n",
        "- The return statement in a Python function is used to send a value (or multiple values) back to the caller and terminate the function execution. It allows a function to produce an output that can be stored in a variable or used in further computations.\n",
        "\n",
        " Example :\n",
        "  \n",
        "  def square(num):\n",
        "    \n",
        "    return num * num\n",
        "\n",
        " result = square(4)\n",
        "\n",
        " print(result)\n",
        "\n",
        "**Q5. What are iterators in Python and how do they differ from iterables?**\n",
        "\n",
        "  - Iterable is an object, that one can iterate over. It generates an Iterator when passed to iter() method. An iterator is an object, which is used to iterate over an iterable object using the __next__() method. Iterators have the __next__() method, which returns the next item of the object.\n",
        "\n",
        "**Q6. Explain the concept of generators in Python and how they are defined.**\n",
        " - A generator is a function that produces a sequence of values lazily, one at a time, rather than storing all values in memory at once. It allows for efficient iteration over large datasets or infinite sequences without loading the entire dataset into memory.\n",
        "  \n",
        "  def fibonacci():\n",
        "   \n",
        "    a, b = 0, 1\n",
        "   \n",
        "    while True:\n",
        "        yield a\n",
        "        a, b = b, a + b\n",
        "\n",
        "fib_gen = fibonacci()\n",
        "\n",
        "for _ in range(10):\n",
        "   \n",
        "    print(next(fib_gen))\n",
        "\n",
        "**Q.7 What are the advantages of using generators over regular functions?**\n",
        " - Generators have several advantages over regular functions, including memory efficiency, speed, and the ability to represent infinite streams of data.\n",
        "\n",
        "**Q8.What is a lambda function in Python and when is it typically used?**\n",
        " - A lambda function in Python is an anonymous function (a function without a name) that is defined using the lambda keyword. It can have multiple arguments but only a single expression, which is evaluated and returned.\n",
        "\n",
        "Syntax:\n",
        "\n",
        "lambda arguments: expression\n",
        "\n",
        "def add(x, y):\n",
        "    \n",
        "    return x + y\n",
        "\n",
        "add_lambda = lambda x, y: x + y\n",
        "\n",
        "print(add_lambda(3, 5))\n",
        "\n",
        "**Q9.  Explain the purpose and usage of the `map()` function in Python.**\n",
        "- The map() function in Python is used to apply a given function to all items in an iterable (e.g., list, tuple, etc.) and return an iterator with the transformed values.\n",
        "\n",
        "Syntax\n",
        "\n",
        "map(function, iterable)\n",
        "\n",
        " numbers = [1, 2, 3, 4]\n",
        "squared_numbers = list(map(pow, numbers, [2]*len(numbers)))  # pow(x, y)\n",
        "\n",
        "computes x^y\n",
        "\n",
        "print(squared_numbers)\n",
        "\n",
        "**Q10 What is the difference between `map()`, `reduce()`, and `filter()` functions in Python?**\n",
        "- These three functions—map(), reduce(), and filter()—are higher-order functions used for processing iterables efficiently. Here’s a breakdown of their differences:\n",
        "\n",
        "**1. map()**\n",
        " 🔹 Purpose: Applies a function to each element of an iterable and returns an iterator with the results.\n",
        "\n",
        "🔹 Syntax:\n",
        "\n",
        "\n",
        " map(function, iterable)\n",
        "\n",
        "🔹 Example:\n",
        "\n",
        "\n",
        " numbers = [1, 2, 3, 4]\n",
        "\n",
        " squared = list(map(lambda x: x ** 2, numbers))\n",
        "\n",
        "print(squared)  # Output: [1, 4, 9, 16]\n",
        "\n",
        "🔹 Use Case: When you need to modify every element in an iterable.\n",
        "\n",
        " **2. filter()**\n",
        "\n",
        "🔹 Purpose: Filters elements of an iterable based on a function that returns True or False.\n",
        "\n",
        "🔹 Syntax:\n",
        "\n",
        "\n",
        "filter(function, iterable)\n",
        "\n",
        "🔹 Example:\n",
        "\n",
        "numbers = [1, 2, 3, 4, 5, 6]\n",
        "\n",
        "evens = list(filter(lambda x: x % 2 == 0, numbers))\n",
        "\n",
        "print(evens)  # Output: [2, 4, 6]\n",
        "\n",
        "🔹 Use Case: When you need to remove elements that don’t satisfy a condition.\n",
        "\n",
        "  **3. reduce()**\n",
        "\n",
        "🔹 Purpose: Applies a function cumulatively to elements of an iterable, reducing them to a single value.\n",
        "\n",
        "🔹 Syntax:\n",
        "\n",
        "\n",
        " from functools import reduce\n",
        "\n",
        "reduce(function, iterable)\n",
        "\n",
        "🔹 Example:\n",
        "\n",
        "from functools import reduce\n",
        "\n",
        " numbers = [1, 2, 3, 4]\n",
        "\n",
        "sum_all = reduce(lambda x, y: x + y, numbers)\n",
        "\n",
        "print(sum_all)  # Output: 10 (1+2+3+4)\n",
        "\n",
        "🔹 Use Case: When you need to aggregate values (e.g., sum, product, maximum, etc.).\n",
        "\n",
        "**Q11.Using pen & Paper write the internal mechanism for sum operation using  reduce function on this given list:[47,11,42,13];**\n",
        "\n",
        "  - from functools import reduce\n",
        "\n",
        " def add(x, y):\n",
        "\n",
        "    return x + y\n",
        "\n",
        " a = [47,11,42,13]\n",
        "\n",
        " res = reduce(add, a)\n",
        "\n",
        "print(res)"
      ],
      "metadata": {
        "id": "DNHEkKgzJiGR"
      }
    },
    {
      "cell_type": "code",
      "source": [
        "\"\"\"Q1. Write a Python function that takes a list of numbers as input and returns the sum of all even numbers in\n",
        "the list.\"\"\"\n",
        "def sum_of_even(numbers):\n",
        "  return sum(filter(lambda x: x % 2 == 0, numbers))\n",
        "number=[1,2,3,4,5,6,6,7,8,9,10,11,12]\n",
        "result=sum_of_even(number)\n",
        "print(result)"
      ],
      "metadata": {
        "colab": {
          "base_uri": "https://localhost:8080/"
        },
        "id": "FUScdkf5QU_F",
        "outputId": "bbd2e148-21e5-41e5-de4c-c36088aea30d"
      },
      "execution_count": 3,
      "outputs": [
        {
          "output_type": "stream",
          "name": "stdout",
          "text": [
            "48\n"
          ]
        }
      ]
    },
    {
      "cell_type": "code",
      "source": [
        "\"\"\"Q2.. Create a Python function that accepts a string and returns the reverse of that string\"\"\"\n",
        "def reverse_string(s):\n",
        "    return s[::-1]  # Slicing method to reverse the string\n",
        "\n",
        "# Example Usage\n",
        "text = \"Hello, World!\"\n",
        "result = reverse_string(text)\n",
        "print(result)"
      ],
      "metadata": {
        "colab": {
          "base_uri": "https://localhost:8080/"
        },
        "id": "bOIWTOl7RGXz",
        "outputId": "9085eca9-7df2-4a21-8025-f8dafd15449b"
      },
      "execution_count": 4,
      "outputs": [
        {
          "output_type": "stream",
          "name": "stdout",
          "text": [
            "!dlroW ,olleH\n"
          ]
        }
      ]
    },
    {
      "cell_type": "code",
      "source": [
        "\"\"\"Q3. Implement a Python function that takes a list of integers and returns a new list containing the squares of\n",
        "each number.\"\"\"\n",
        "\n",
        "def square_numbers(numbers):\n",
        "    return [x ** 2 for x in numbers]\n",
        "\n",
        "# Example Usage\n",
        "numbers = [1, 2, 3, 4, 5]\n",
        "squared_numbers = square_numbers(numbers)\n",
        "print(squared_numbers)"
      ],
      "metadata": {
        "colab": {
          "base_uri": "https://localhost:8080/"
        },
        "id": "BqQMRaSnRrSl",
        "outputId": "75325fa2-bde5-418e-8d1b-bf3f8bbea5a9"
      },
      "execution_count": 5,
      "outputs": [
        {
          "output_type": "stream",
          "name": "stdout",
          "text": [
            "[1, 4, 9, 16, 25]\n"
          ]
        }
      ]
    },
    {
      "cell_type": "code",
      "source": [
        "\"\"\"Q4.Write a Python function that checks if a given number is prime or not from 1 to 200.\"\"\"\n",
        "def is_prime(n):\n",
        "    if n <= 1:\n",
        "        return False\n",
        "    for i in range(2, int(n ** 0.5) + 1):  # Check divisibility up to the square root of n\n",
        "        if n % i == 0:\n",
        "            return False\n",
        "    return True\n",
        "\n",
        "# Example Usage\n",
        "for num in range(1, 201):\n",
        "    if is_prime(num):\n",
        "        print(num)"
      ],
      "metadata": {
        "colab": {
          "base_uri": "https://localhost:8080/"
        },
        "id": "yCVDRjxiSC2A",
        "outputId": "7172c2d3-f6b0-4233-fa70-ac46985fec60"
      },
      "execution_count": 6,
      "outputs": [
        {
          "output_type": "stream",
          "name": "stdout",
          "text": [
            "2\n",
            "3\n",
            "5\n",
            "7\n",
            "11\n",
            "13\n",
            "17\n",
            "19\n",
            "23\n",
            "29\n",
            "31\n",
            "37\n",
            "41\n",
            "43\n",
            "47\n",
            "53\n",
            "59\n",
            "61\n",
            "67\n",
            "71\n",
            "73\n",
            "79\n",
            "83\n",
            "89\n",
            "97\n",
            "101\n",
            "103\n",
            "107\n",
            "109\n",
            "113\n",
            "127\n",
            "131\n",
            "137\n",
            "139\n",
            "149\n",
            "151\n",
            "157\n",
            "163\n",
            "167\n",
            "173\n",
            "179\n",
            "181\n",
            "191\n",
            "193\n",
            "197\n",
            "199\n"
          ]
        }
      ]
    },
    {
      "cell_type": "code",
      "source": [
        "\"\"\"Q5. Create an iterator class in Python that generates the Fibonacci sequence up to a specified number of\n",
        "terms.\"\"\"\n",
        "\n",
        "class FibonacciIterator:\n",
        "    def __init__(self, terms):\n",
        "        self.terms = terms\n",
        "        self.a, self.b = 0, 1  # Initial values of the Fibonacci sequence\n",
        "        self.count = 0\n",
        "\n",
        "    def __iter__(self):\n",
        "        return self\n",
        "\n",
        "    def __next__(self):\n",
        "        if self.count < self.terms:\n",
        "            result = self.a\n",
        "            self.a, self.b = self.b, self.a + self.b  # Update values for next Fibonacci number\n",
        "            self.count += 1\n",
        "            return result\n",
        "        else:\n",
        "            raise StopIteration  # Stop the iteration when the specified terms are reached\n",
        "\n",
        "# Example Usage\n",
        "fib = FibonacciIterator(10)  # Generate first 10 Fibonacci numbers\n",
        "for num in fib:\n",
        "    print(num)"
      ],
      "metadata": {
        "colab": {
          "base_uri": "https://localhost:8080/"
        },
        "id": "Jg41hhC3SWx1",
        "outputId": "b992cdf8-2be1-419c-e728-43e8fd41fe23"
      },
      "execution_count": 7,
      "outputs": [
        {
          "output_type": "stream",
          "name": "stdout",
          "text": [
            "0\n",
            "1\n",
            "1\n",
            "2\n",
            "3\n",
            "5\n",
            "8\n",
            "13\n",
            "21\n",
            "34\n"
          ]
        }
      ]
    },
    {
      "cell_type": "code",
      "source": [
        "\"\"\"Q6. Write a generator function in Python that yields the powers of 2 up to a given exponent.\"\"\"\n",
        "def powers_of_two(exponent):\n",
        "    for i in range(exponent + 1):\n",
        "        yield 2 ** i\n",
        "\n",
        "# Example Usage\n",
        "for power in powers_of_two(5):\n",
        "    print(power)"
      ],
      "metadata": {
        "colab": {
          "base_uri": "https://localhost:8080/"
        },
        "id": "BXmLExT3SqPP",
        "outputId": "7db027ea-35ad-4a5f-a5c4-12d201515313"
      },
      "execution_count": 8,
      "outputs": [
        {
          "output_type": "stream",
          "name": "stdout",
          "text": [
            "1\n",
            "2\n",
            "4\n",
            "8\n",
            "16\n",
            "32\n"
          ]
        }
      ]
    },
    {
      "cell_type": "code",
      "source": [
        "\"\"\"Q.7  Implement a generator function that reads a file line by line and yields each line as a string.\"\"\"\n",
        "def read_lines(file_name):\n",
        "    with open(file_name, 'r') as file:\n",
        "        for line in file:\n",
        "            yield line.strip()\n",
        "\n",
        "file_name = 'example.txt'  # Replace with your file name\n",
        "for line in read_lines(file_name):\n",
        "    print(line)\n"
      ],
      "metadata": {
        "colab": {
          "base_uri": "https://localhost:8080/",
          "height": 315
        },
        "id": "2LDolF7JS1d-",
        "outputId": "62af7d9e-08fd-43eb-f879-06b018acf576"
      },
      "execution_count": 13,
      "outputs": [
        {
          "output_type": "error",
          "ename": "FileNotFoundError",
          "evalue": "[Errno 2] No such file or directory: 'Assignment.txt'",
          "traceback": [
            "\u001b[0;31m---------------------------------------------------------------------------\u001b[0m",
            "\u001b[0;31mFileNotFoundError\u001b[0m                         Traceback (most recent call last)",
            "\u001b[0;32m<ipython-input-13-2f769c1b82f6>\u001b[0m in \u001b[0;36m<cell line: 0>\u001b[0;34m()\u001b[0m\n\u001b[1;32m      6\u001b[0m \u001b[0;34m\u001b[0m\u001b[0m\n\u001b[1;32m      7\u001b[0m \u001b[0mfile_name\u001b[0m \u001b[0;34m=\u001b[0m \u001b[0;34m'Assignment.txt'\u001b[0m  \u001b[0;31m# Replace with your file name\u001b[0m\u001b[0;34m\u001b[0m\u001b[0;34m\u001b[0m\u001b[0m\n\u001b[0;32m----> 8\u001b[0;31m \u001b[0;32mfor\u001b[0m \u001b[0mline\u001b[0m \u001b[0;32min\u001b[0m \u001b[0mread_lines\u001b[0m\u001b[0;34m(\u001b[0m\u001b[0mfile_name\u001b[0m\u001b[0;34m)\u001b[0m\u001b[0;34m:\u001b[0m\u001b[0;34m\u001b[0m\u001b[0;34m\u001b[0m\u001b[0m\n\u001b[0m\u001b[1;32m      9\u001b[0m     \u001b[0mprint\u001b[0m\u001b[0;34m(\u001b[0m\u001b[0mline\u001b[0m\u001b[0;34m)\u001b[0m\u001b[0;34m\u001b[0m\u001b[0;34m\u001b[0m\u001b[0m\n",
            "\u001b[0;32m<ipython-input-13-2f769c1b82f6>\u001b[0m in \u001b[0;36mread_lines\u001b[0;34m(file_name)\u001b[0m\n\u001b[1;32m      1\u001b[0m \u001b[0;34m\"\"\"Q.7  Implement a generator function that reads a file line by line and yields each line as a string.\"\"\"\u001b[0m\u001b[0;34m\u001b[0m\u001b[0;34m\u001b[0m\u001b[0m\n\u001b[1;32m      2\u001b[0m \u001b[0;32mdef\u001b[0m \u001b[0mread_lines\u001b[0m\u001b[0;34m(\u001b[0m\u001b[0mfile_name\u001b[0m\u001b[0;34m)\u001b[0m\u001b[0;34m:\u001b[0m\u001b[0;34m\u001b[0m\u001b[0;34m\u001b[0m\u001b[0m\n\u001b[0;32m----> 3\u001b[0;31m     \u001b[0;32mwith\u001b[0m \u001b[0mopen\u001b[0m\u001b[0;34m(\u001b[0m\u001b[0mfile_name\u001b[0m\u001b[0;34m,\u001b[0m \u001b[0;34m'r'\u001b[0m\u001b[0;34m)\u001b[0m \u001b[0;32mas\u001b[0m \u001b[0mfile\u001b[0m\u001b[0;34m:\u001b[0m\u001b[0;34m\u001b[0m\u001b[0;34m\u001b[0m\u001b[0m\n\u001b[0m\u001b[1;32m      4\u001b[0m         \u001b[0;32mfor\u001b[0m \u001b[0mline\u001b[0m \u001b[0;32min\u001b[0m \u001b[0mfile\u001b[0m\u001b[0;34m:\u001b[0m\u001b[0;34m\u001b[0m\u001b[0;34m\u001b[0m\u001b[0m\n\u001b[1;32m      5\u001b[0m             \u001b[0;32myield\u001b[0m \u001b[0mline\u001b[0m\u001b[0;34m.\u001b[0m\u001b[0mstrip\u001b[0m\u001b[0;34m(\u001b[0m\u001b[0;34m)\u001b[0m\u001b[0;34m\u001b[0m\u001b[0;34m\u001b[0m\u001b[0m\n",
            "\u001b[0;31mFileNotFoundError\u001b[0m: [Errno 2] No such file or directory: 'Assignment.txt'"
          ]
        }
      ]
    },
    {
      "cell_type": "code",
      "source": [
        "\"\"\"Q8 Use a lambda function in Python to sort a list of tuples based on the second element of each tuple\"\"\"\n",
        "tuples = [(1, 3), (4, 1), (2, 2), (5, 0)]\n",
        "\n",
        "# Sort the list of tuples by the second element using a lambda function\n",
        "sorted_tuples = sorted(tuples, key=lambda x: x[1])\n",
        "\n",
        "# Output the sorted list\n",
        "print(sorted_tuples)"
      ],
      "metadata": {
        "colab": {
          "base_uri": "https://localhost:8080/"
        },
        "id": "a6BB-WeuTUxu",
        "outputId": "a09386d3-8f30-4c84-8dcd-350f4cd42fd0"
      },
      "execution_count": 14,
      "outputs": [
        {
          "output_type": "stream",
          "name": "stdout",
          "text": [
            "[(5, 0), (4, 1), (2, 2), (1, 3)]\n"
          ]
        }
      ]
    },
    {
      "cell_type": "code",
      "source": [
        "\"\"\"Q9. Write a Python program that uses `map()` to convert a list of temperatures from Celsius to Fahrenheit.\"\"\"\n",
        "celsius_temps = [0, 20, 25, 30, 35, 40]\n",
        "\n",
        "# Function to convert Celsius to Fahrenheit\n",
        "def celsius_to_fahrenheit(celsius):\n",
        "    return (celsius * 9/5) + 32\n",
        "\n",
        "# Use map() to apply the conversion function to each element in the list\n",
        "fahrenheit_temps = list(map(celsius_to_fahrenheit, celsius_temps))\n",
        "\n",
        "# Output the result\n",
        "print(fahrenheit_temps)"
      ],
      "metadata": {
        "colab": {
          "base_uri": "https://localhost:8080/"
        },
        "id": "e7fgUuPATgys",
        "outputId": "e220fa8f-474f-4d53-dbda-fd719273f2b6"
      },
      "execution_count": 15,
      "outputs": [
        {
          "output_type": "stream",
          "name": "stdout",
          "text": [
            "[32.0, 68.0, 77.0, 86.0, 95.0, 104.0]\n"
          ]
        }
      ]
    },
    {
      "cell_type": "code",
      "source": [
        "\"\"\"Q10. Create a Python program that uses `filter()` to remove all the vowels from a given string.\"\"\"\n",
        "def is_not_vowel(char):\n",
        "    return char.lower() not in 'aeiou'\n",
        "\n",
        "# Input string\n",
        "input_string = \"Hello, World!\"\n",
        "\n",
        "# Use filter() to keep only characters that are not vowels\n",
        "filtered_string = ''.join(filter(is_not_vowel, input_string))\n",
        "\n",
        "# Output the result\n",
        "print(filtered_string)"
      ],
      "metadata": {
        "colab": {
          "base_uri": "https://localhost:8080/"
        },
        "id": "I1qRgcbbTsjl",
        "outputId": "31956f61-0ee8-4999-e480-0fc47acc0f34"
      },
      "execution_count": 16,
      "outputs": [
        {
          "output_type": "stream",
          "name": "stdout",
          "text": [
            "Hll, Wrld!\n"
          ]
        }
      ]
    },
    {
      "cell_type": "code",
      "source": [
        "\"\"\"Q11.11) Imagine an accounting routine used in a book shop. It works on a list with sublists, which look like this:\"\"\"\n",
        "orders = [\n",
        "    (34587, \"Learning Python, Mark Lutz\", 4, 40.95),\n",
        "    (98762, \"Programming Python, Mark Lutz\", 5, 56.80),\n",
        "    (77226, \"Head First Python, Paul Barry\", 3, 32.95),\n",
        "    (88112, \"Einführung in Python3, Bernd Klein\", 3, 24.99)\n",
        "]\n",
        "\n",
        "# Using lambda and map\n",
        "result = list(map(lambda x: (x[0], x[2] * x[3] + (10 if x[2] * x[3] < 100 else 0)), orders))\n",
        "\n",
        "# Print result\n",
        "print(result)"
      ],
      "metadata": {
        "colab": {
          "base_uri": "https://localhost:8080/"
        },
        "id": "t5fYCAn6T6kt",
        "outputId": "a70ba7bd-e1d1-45ce-c2e8-fbe447a63fee"
      },
      "execution_count": 17,
      "outputs": [
        {
          "output_type": "stream",
          "name": "stdout",
          "text": [
            "[(34587, 163.8), (98762, 284.0), (77226, 108.85000000000001), (88112, 84.97)]\n"
          ]
        }
      ]
    }
  ]
}