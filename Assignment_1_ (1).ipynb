{
  "nbformat": 4,
  "nbformat_minor": 0,
  "metadata": {
    "colab": {
      "provenance": []
    },
    "kernelspec": {
      "name": "python3",
      "display_name": "Python 3"
    },
    "language_info": {
      "name": "python"
    }
  },
  "cells": [
    {
      "cell_type": "code",
      "execution_count": null,
      "metadata": {
        "id": "pGo5636KYHi9"
      },
      "outputs": [],
      "source": []
    },
    {
      "cell_type": "markdown",
      "source": [
        "## **Assigment 1 - Basic Python**\n",
        "\n",
        "Q1.**What is Python, and why is it popular?**\n",
        "   - Python is  programming language that has a set of rule and symbol that are used to give instruction to the program .\n",
        "    It is popular beacuse -\n",
        "      -It has simple syntax,\n",
        "      -Used widely in industry\n",
        "      -Easy to understandable\n",
        "      -It can be used in automation and image processing\n",
        "      -ease to learning\n",
        "\n",
        "Q2.**What is an interpreter in Python?**\n",
        "  - Interpreter in python language  is program that can read and execute Python code line by line.\n",
        "  It is not like the compiler of C /C++ that convert the code into machine language.\n",
        "\n",
        "Q3.**What are pre-defined keywords in Python?**\n",
        " - Predefined keywords in Python is keywords that reserved for the specific meaning in python code .Like- print, True, False ,else ,import etc.\n",
        "  Keyword  in lower case generally.\n",
        "\n",
        "Q4.**Can keywords be used as variable names?**\n",
        "\n",
        "  - Keywords cannot used  as variable because keywords have predefined  meaning in programming language . Whenever it used as variable then there will be syntax error .\n",
        "\n",
        "Q5.**What is mutability in Python?**\n",
        "\n",
        "  - Mutability in Python refers to ability modified or can be changed after creation.\n",
        "   Example-\n",
        "   l=[1,3,4,\"archana\"]\n",
        "\n",
        "   l[1]=\"yadav\"\n",
        "\n",
        "   then list will be [1,\"yadav\",4,\"archana\"]\n",
        "\n",
        "Q6**.Why are lists mutable, but tuples are immutable?**\n",
        "\n",
        "   - Tuple are required to store in single memory block that why they need  more space to mutable that reason they are not able to mutable .\n",
        "\n",
        "   -List are mutable because they allow modification to be made in elements.\n",
        "\n",
        "Q7. **What is the difference between “==” and “is” operators in Python?**\n",
        "  \n",
        "  - Equate operator determine if the values of two objects are equal, rather they have different memory.\n",
        "   \n",
        "  - **is** is identity operator that check if two variable points to exact the same memory of the object.\n",
        "\n",
        "Q8. **What are logical operators in Python?**\n",
        "   - They are the keywords like \"and\", \"or\",\"not\" logical operator that are used in conditional statement (Either, False or True )\n",
        "\n",
        " a\tb (a and b)  (a or b)\n",
        " F\tF\t F             F\n",
        " F\tT\t F             T\n",
        " T\tF\t F             T\n",
        " T\tT\t T             T\n",
        "\n",
        "\n",
        " Q9. **What is type casting in Python?**\n",
        "  - Type casting is method in Python that alllows programmes to convert variables or datatype from one data to another that required to user to perform the task.\n",
        "\n",
        "\n",
        "Q10**.What is the difference between implicit and explicit type casting?**\n",
        "\n",
        "  -  explicit type casting- it involves the converting the datatype by user by using predefined function like - int(),float(),str().\n",
        "\n",
        "  -Impilcit type casting- python automatically convert one data type to another datatype without user instruction in the programming.\n",
        "\n",
        "Q11.**What is the purpose of conditional statements in Python?**\n",
        "  \n",
        "   - Conditional statement is called as logical expression where operator check ,compare  or evaluate thta the given situstion meet the condition whatever given to the code .\n",
        "\n",
        "  ** Example-** if,if-else, nested if-else ,if-elif-else , elif(else-if)\n",
        "\n",
        "\n",
        "Q12. **How does the elif statement work?**\n",
        "\n",
        "   - elif keyword is called else-if in python codeing .It can beused in conditional statement to check for given multiple condition . If the first consition is not true(false) ,that  move to next step elif statement to check if that condition is true or not .\n",
        "\n",
        "\n",
        "Q13. **What is the difference between for and while loops?**\n",
        "  \n",
        "   - For loop is used in programming language of python when there iteration is known in code .\n",
        "\n",
        "   - while loop are used in programming langauge of python where iteration  is unkown  in code .\n",
        "\n",
        "Q14.**Describe a scenario where a while loop is more suitable than a for loop.**\n",
        "\n",
        " - while loop is more suitable then for loop that when you need to repeat a block of code unit  a spcific condition to meet ,where the exact number of iteration is unknown in further process  it run till th validating condtition is correct or when processing data from an external source ehere the data length might vary.\n",
        "   "
      ],
      "metadata": {
        "id": "oR7D4KvfpogO"
      }
    },
    {
      "cell_type": "code",
      "source": [
        "#Q1. Write a Python program to print \"Hello, World!_\n",
        "\n",
        "print(\"hello world\")"
      ],
      "metadata": {
        "colab": {
          "base_uri": "https://localhost:8080/"
        },
        "id": "ZzjLK5ML0Qhf",
        "outputId": "866e5e0d-a074-4709-c896-c5d2442842b6"
      },
      "execution_count": null,
      "outputs": [
        {
          "output_type": "stream",
          "name": "stdout",
          "text": [
            "hello world\n"
          ]
        }
      ]
    },
    {
      "cell_type": "code",
      "source": [
        "# Q2.Write a Python program that displays your name and age\n",
        "name=input(\"enter your name \")\n",
        "age= input(\"enter your age\")\n",
        "print(\"my name is- \", name , end=\" \")\n",
        "print()\n",
        "print(\"my age is- \", age )\n"
      ],
      "metadata": {
        "colab": {
          "base_uri": "https://localhost:8080/"
        },
        "id": "HRhTxRyc0-hA",
        "outputId": "469cebff-ba11-4372-e5c8-c375ba1f1977"
      },
      "execution_count": null,
      "outputs": [
        {
          "output_type": "stream",
          "name": "stdout",
          "text": [
            "enter your name Archana Yadav\n",
            "enter your age29\n",
            "my name is-  Archana Yadav \n",
            "my age is-  29\n"
          ]
        }
      ]
    },
    {
      "cell_type": "code",
      "source": [
        "# Q3. Write code to print all the pre-defined keywords in Python using the keyword library.\n",
        "\n",
        "print(\"List of Keyword:-\")\n",
        "help('keywords')"
      ],
      "metadata": {
        "colab": {
          "base_uri": "https://localhost:8080/"
        },
        "id": "sWwmgCX43KAh",
        "outputId": "af55ff61-3634-4a0a-9eee-c231577851ee"
      },
      "execution_count": null,
      "outputs": [
        {
          "output_type": "stream",
          "name": "stdout",
          "text": [
            "List of Keyword:-\n",
            "\n",
            "Here is a list of the Python keywords.  Enter any keyword to get more help.\n",
            "\n",
            "False               class               from                or\n",
            "None                continue            global              pass\n",
            "True                def                 if                  raise\n",
            "and                 del                 import              return\n",
            "as                  elif                in                  try\n",
            "assert              else                is                  while\n",
            "async               except              lambda              with\n",
            "await               finally             nonlocal            yield\n",
            "break               for                 not                 \n",
            "\n"
          ]
        }
      ]
    },
    {
      "cell_type": "code",
      "source": [
        "# Q4.Write a program that checks if a given word is a Python keyword\n",
        "word = input(\"Enter a word: \")\n",
        "import keyword\n",
        "if keyword.iskeyword(word):\n",
        "    print(f\"'{word}' is a Python keyword.\")\n",
        "else:\n",
        "    print(f\"'{word}' is not a Python keyword.\")\n"
      ],
      "metadata": {
        "colab": {
          "base_uri": "https://localhost:8080/"
        },
        "id": "NuVX-maPEkR7",
        "outputId": "8b99e705-2eac-4264-fc37-e28e92852e29"
      },
      "execution_count": null,
      "outputs": [
        {
          "output_type": "stream",
          "name": "stdout",
          "text": [
            "Enter a word: for\n",
            "'for' is a Python keyword.\n"
          ]
        }
      ]
    },
    {
      "cell_type": "code",
      "source": [
        "\"\"\" Q5. Create a list and tuple in Python, and demonstrate how attempting to change an element works differently\n",
        "for each.\"\"\"\n",
        "\n",
        "list=[1,3,5,\"Archana \",7,\"Yadav\"]\n",
        "print(\"original list\",list)\n",
        "list[1]=\"hello\"\n",
        "print(\"modified list\",list)\n",
        "\n",
        "Tuple=(1,3,5,\"Archana \",7,\"Yadav\")\n",
        "print(\"original tuple\",Tuple)\n",
        "Tuple[1]=\"hello\"\n",
        "print(\"modified tuple\",Tuple)\n",
        "\n",
        "\n"
      ],
      "metadata": {
        "colab": {
          "base_uri": "https://localhost:8080/",
          "height": 263
        },
        "id": "-27BFuO_FUJ-",
        "outputId": "429aadd5-0dea-4a35-8dbc-ffafa8b48c12"
      },
      "execution_count": null,
      "outputs": [
        {
          "output_type": "stream",
          "name": "stdout",
          "text": [
            "original list [1, 3, 5, 'Archana ', 7, 'Yadav']\n",
            "modified list [1, 'hello', 5, 'Archana ', 7, 'Yadav']\n",
            "original tuple (1, 3, 5, 'Archana ', 7, 'Yadav')\n"
          ]
        },
        {
          "output_type": "error",
          "ename": "TypeError",
          "evalue": "'tuple' object does not support item assignment",
          "traceback": [
            "\u001b[0;31m---------------------------------------------------------------------------\u001b[0m",
            "\u001b[0;31mTypeError\u001b[0m                                 Traceback (most recent call last)",
            "\u001b[0;32m<ipython-input-22-97a62d6851b6>\u001b[0m in \u001b[0;36m<cell line: 0>\u001b[0;34m()\u001b[0m\n\u001b[1;32m      9\u001b[0m \u001b[0mTuple\u001b[0m\u001b[0;34m=\u001b[0m\u001b[0;34m(\u001b[0m\u001b[0;36m1\u001b[0m\u001b[0;34m,\u001b[0m\u001b[0;36m3\u001b[0m\u001b[0;34m,\u001b[0m\u001b[0;36m5\u001b[0m\u001b[0;34m,\u001b[0m\u001b[0;34m\"Archana \"\u001b[0m\u001b[0;34m,\u001b[0m\u001b[0;36m7\u001b[0m\u001b[0;34m,\u001b[0m\u001b[0;34m\"Yadav\"\u001b[0m\u001b[0;34m)\u001b[0m\u001b[0;34m\u001b[0m\u001b[0;34m\u001b[0m\u001b[0m\n\u001b[1;32m     10\u001b[0m \u001b[0mprint\u001b[0m\u001b[0;34m(\u001b[0m\u001b[0;34m\"original tuple\"\u001b[0m\u001b[0;34m,\u001b[0m\u001b[0mTuple\u001b[0m\u001b[0;34m)\u001b[0m\u001b[0;34m\u001b[0m\u001b[0;34m\u001b[0m\u001b[0m\n\u001b[0;32m---> 11\u001b[0;31m \u001b[0mTuple\u001b[0m\u001b[0;34m[\u001b[0m\u001b[0;36m1\u001b[0m\u001b[0;34m]\u001b[0m\u001b[0;34m=\u001b[0m\u001b[0;34m\"hello\"\u001b[0m\u001b[0;34m\u001b[0m\u001b[0;34m\u001b[0m\u001b[0m\n\u001b[0m\u001b[1;32m     12\u001b[0m \u001b[0mprint\u001b[0m\u001b[0;34m(\u001b[0m\u001b[0;34m\"modified tuple\"\u001b[0m\u001b[0;34m,\u001b[0m\u001b[0mTuple\u001b[0m\u001b[0;34m)\u001b[0m\u001b[0;34m\u001b[0m\u001b[0;34m\u001b[0m\u001b[0m\n\u001b[1;32m     13\u001b[0m \u001b[0;34m\u001b[0m\u001b[0m\n",
            "\u001b[0;31mTypeError\u001b[0m: 'tuple' object does not support item assignment"
          ]
        }
      ]
    },
    {
      "cell_type": "code",
      "source": [
        "# Q.6 Write a function to demonstrate the behavior of mutable and immutable arguments\n",
        "\n",
        "#mutable\n",
        "list=[1,3,5,\"Archana \",7,\"Yadav\"]\n",
        "list[3]=\"Hello\"\n",
        "list\n",
        "\n",
        "#immutable\n",
        "\n",
        "Tuple=(1,3,5,\"Archana \",7,\"Yadav\")\n",
        "Tuple[3]=\"Hello\"\n",
        "Tuple\n"
      ],
      "metadata": {
        "colab": {
          "base_uri": "https://localhost:8080/",
          "height": 193
        },
        "id": "JKFqm8bcHKdS",
        "outputId": "8b899b6f-e2be-4dc5-a7f2-c4232b4f37d7"
      },
      "execution_count": null,
      "outputs": [
        {
          "output_type": "error",
          "ename": "TypeError",
          "evalue": "'tuple' object does not support item assignment",
          "traceback": [
            "\u001b[0;31m---------------------------------------------------------------------------\u001b[0m",
            "\u001b[0;31mTypeError\u001b[0m                                 Traceback (most recent call last)",
            "\u001b[0;32m<ipython-input-24-ebd3670bc9f2>\u001b[0m in \u001b[0;36m<cell line: 0>\u001b[0;34m()\u001b[0m\n\u001b[1;32m      8\u001b[0m \u001b[0;31m#immutable\u001b[0m\u001b[0;34m\u001b[0m\u001b[0;34m\u001b[0m\u001b[0m\n\u001b[1;32m      9\u001b[0m \u001b[0mTuple\u001b[0m\u001b[0;34m=\u001b[0m\u001b[0;34m(\u001b[0m\u001b[0;36m1\u001b[0m\u001b[0;34m,\u001b[0m\u001b[0;36m3\u001b[0m\u001b[0;34m,\u001b[0m\u001b[0;36m5\u001b[0m\u001b[0;34m,\u001b[0m\u001b[0;34m\"Archana \"\u001b[0m\u001b[0;34m,\u001b[0m\u001b[0;36m7\u001b[0m\u001b[0;34m,\u001b[0m\u001b[0;34m\"Yadav\"\u001b[0m\u001b[0;34m)\u001b[0m\u001b[0;34m\u001b[0m\u001b[0;34m\u001b[0m\u001b[0m\n\u001b[0;32m---> 10\u001b[0;31m \u001b[0mTuple\u001b[0m\u001b[0;34m[\u001b[0m\u001b[0;36m3\u001b[0m\u001b[0;34m]\u001b[0m\u001b[0;34m=\u001b[0m\u001b[0;34m\"Hello\"\u001b[0m\u001b[0;34m\u001b[0m\u001b[0;34m\u001b[0m\u001b[0m\n\u001b[0m\u001b[1;32m     11\u001b[0m \u001b[0mTuple\u001b[0m\u001b[0;34m\u001b[0m\u001b[0;34m\u001b[0m\u001b[0m\n",
            "\u001b[0;31mTypeError\u001b[0m: 'tuple' object does not support item assignment"
          ]
        }
      ]
    },
    {
      "cell_type": "code",
      "source": [
        "#Q7.Write a function to demonstrate the behavior of mutable and immutable arguments\n",
        "\n",
        "#mutable\n",
        "list=[1,3,5,\"Archana \",7,\"Yadav\"]\n",
        "list[3]=\"Hello\"\n",
        "list\n",
        "\n",
        "#immutable\n",
        "\n",
        "Tuple=(1,3,5,\"Archana \",7,\"Yadav\")\n",
        "Tuple[3]=\"Hello\"\n",
        "Tuple\n",
        "\n"
      ],
      "metadata": {
        "colab": {
          "base_uri": "https://localhost:8080/",
          "height": 211
        },
        "id": "bVOU_yD2IbFE",
        "outputId": "f9b54414-2cdd-4ce0-a08f-794083c8d3f2"
      },
      "execution_count": null,
      "outputs": [
        {
          "output_type": "error",
          "ename": "TypeError",
          "evalue": "'tuple' object does not support item assignment",
          "traceback": [
            "\u001b[0;31m---------------------------------------------------------------------------\u001b[0m",
            "\u001b[0;31mTypeError\u001b[0m                                 Traceback (most recent call last)",
            "\u001b[0;32m<ipython-input-25-71a4b5ad25d3>\u001b[0m in \u001b[0;36m<cell line: 0>\u001b[0;34m()\u001b[0m\n\u001b[1;32m      9\u001b[0m \u001b[0;34m\u001b[0m\u001b[0m\n\u001b[1;32m     10\u001b[0m \u001b[0mTuple\u001b[0m\u001b[0;34m=\u001b[0m\u001b[0;34m(\u001b[0m\u001b[0;36m1\u001b[0m\u001b[0;34m,\u001b[0m\u001b[0;36m3\u001b[0m\u001b[0;34m,\u001b[0m\u001b[0;36m5\u001b[0m\u001b[0;34m,\u001b[0m\u001b[0;34m\"Archana \"\u001b[0m\u001b[0;34m,\u001b[0m\u001b[0;36m7\u001b[0m\u001b[0;34m,\u001b[0m\u001b[0;34m\"Yadav\"\u001b[0m\u001b[0;34m)\u001b[0m\u001b[0;34m\u001b[0m\u001b[0;34m\u001b[0m\u001b[0m\n\u001b[0;32m---> 11\u001b[0;31m \u001b[0mTuple\u001b[0m\u001b[0;34m[\u001b[0m\u001b[0;36m3\u001b[0m\u001b[0;34m]\u001b[0m\u001b[0;34m=\u001b[0m\u001b[0;34m\"Hello\"\u001b[0m\u001b[0;34m\u001b[0m\u001b[0;34m\u001b[0m\u001b[0m\n\u001b[0m\u001b[1;32m     12\u001b[0m \u001b[0mTuple\u001b[0m\u001b[0;34m\u001b[0m\u001b[0;34m\u001b[0m\u001b[0m\n\u001b[1;32m     13\u001b[0m \u001b[0;34m\u001b[0m\u001b[0m\n",
            "\u001b[0;31mTypeError\u001b[0m: 'tuple' object does not support item assignment"
          ]
        }
      ]
    },
    {
      "cell_type": "code",
      "source": [
        "#Q.8- Write a program to demonstrate the use of logical operators\n",
        "\n",
        "a=True\n",
        "b=False\n",
        "print(\"a and b:\", a and b)\n",
        "print(\"a or b:\", a or b)\n",
        "print(\"not a:\" ,not a)\n",
        "print(\"not b:\", not b)\n",
        "\n",
        "\n"
      ],
      "metadata": {
        "colab": {
          "base_uri": "https://localhost:8080/"
        },
        "id": "hgtMWAeaIn4t",
        "outputId": "86c1c697-2c57-4c73-c6ba-871db99a7add"
      },
      "execution_count": 93,
      "outputs": [
        {
          "output_type": "stream",
          "name": "stdout",
          "text": [
            "a and b: False\n",
            "a or b: True\n",
            "not a: False\n",
            "not b: True\n"
          ]
        }
      ]
    },
    {
      "cell_type": "code",
      "source": [
        "#Q9. Write a Python program to convert user input from string to integer, float, and boolean types\n",
        "\n",
        "#String to integer\n",
        "str=\"123\"\n",
        "print(\"original type\",type(str))\n",
        "number=int(str)\n",
        "print(\"string to integer\",type(number))\n",
        "print()\n",
        "\n",
        "#string to float\n",
        "\n",
        "str=\"123.45\"\n",
        "print(\"original type\",type(str))\n",
        "number=float(str)\n",
        "print(\"string to float\",type(number))\n",
        "print()\n",
        "\n",
        "#String to boolean\n",
        "str=\"true\"\n",
        "print(\"original type\",type(str))\n",
        "boolean=bool(str)\n",
        "print(\"string to boolean\",type(boolean))\n",
        "print()"
      ],
      "metadata": {
        "colab": {
          "base_uri": "https://localhost:8080/"
        },
        "id": "F535fTz1NXsv",
        "outputId": "5f50a003-8aa1-4c98-852e-5591a55935c6"
      },
      "execution_count": 94,
      "outputs": [
        {
          "output_type": "stream",
          "name": "stdout",
          "text": [
            "original type <class 'str'>\n",
            "string to integer <class 'int'>\n",
            "\n",
            "original type <class 'str'>\n",
            "string to float <class 'float'>\n",
            "\n",
            "original type <class 'str'>\n",
            "string to boolean <class 'bool'>\n",
            "\n"
          ]
        }
      ]
    },
    {
      "cell_type": "code",
      "source": [
        "#Q.10-Write code to demonstrate type casting with list elements\n",
        "\n",
        "#create list of mixed datattype\n",
        "list=[2,5,8,1.2,\"5\",\"8\",True]\n",
        "#typecasting of list\n",
        "int_list = [int(a) for a in list]\n",
        "str_list = [str(a) for a in list]\n",
        "float_list = [float(a) for a in list]\n",
        "\n",
        "print(\"original list\", list)\n",
        "print(\"int_list\",list)\n",
        "print(\"str_list\",list)\n",
        "print(\"float_list\",list)"
      ],
      "metadata": {
        "id": "jrC95u68P9gL",
        "colab": {
          "base_uri": "https://localhost:8080/",
          "height": 332
        },
        "outputId": "e155c4cc-84f7-42a9-ce91-0d427a605a1d"
      },
      "execution_count": 96,
      "outputs": [
        {
          "output_type": "error",
          "ename": "TypeError",
          "evalue": "'str' object is not callable",
          "traceback": [
            "\u001b[0;31m---------------------------------------------------------------------------\u001b[0m",
            "\u001b[0;31mTypeError\u001b[0m                                 Traceback (most recent call last)",
            "\u001b[0;32m<ipython-input-96-f7beda56d80c>\u001b[0m in \u001b[0;36m<cell line: 0>\u001b[0;34m()\u001b[0m\n\u001b[1;32m      5\u001b[0m \u001b[0;31m#typecasting of list\u001b[0m\u001b[0;34m\u001b[0m\u001b[0;34m\u001b[0m\u001b[0m\n\u001b[1;32m      6\u001b[0m \u001b[0mint_list\u001b[0m \u001b[0;34m=\u001b[0m \u001b[0;34m[\u001b[0m\u001b[0mint\u001b[0m\u001b[0;34m(\u001b[0m\u001b[0ma\u001b[0m\u001b[0;34m)\u001b[0m \u001b[0;32mfor\u001b[0m \u001b[0ma\u001b[0m \u001b[0;32min\u001b[0m \u001b[0mlist\u001b[0m\u001b[0;34m]\u001b[0m\u001b[0;34m\u001b[0m\u001b[0;34m\u001b[0m\u001b[0m\n\u001b[0;32m----> 7\u001b[0;31m \u001b[0mstr_list\u001b[0m \u001b[0;34m=\u001b[0m \u001b[0;34m[\u001b[0m\u001b[0mstr\u001b[0m\u001b[0;34m(\u001b[0m\u001b[0ma\u001b[0m\u001b[0;34m)\u001b[0m \u001b[0;32mfor\u001b[0m \u001b[0ma\u001b[0m \u001b[0;32min\u001b[0m \u001b[0mlist\u001b[0m\u001b[0;34m]\u001b[0m\u001b[0;34m\u001b[0m\u001b[0;34m\u001b[0m\u001b[0m\n\u001b[0m\u001b[1;32m      8\u001b[0m \u001b[0mfloat_list\u001b[0m \u001b[0;34m=\u001b[0m \u001b[0;34m[\u001b[0m\u001b[0mfloat\u001b[0m\u001b[0;34m(\u001b[0m\u001b[0ma\u001b[0m\u001b[0;34m)\u001b[0m \u001b[0;32mfor\u001b[0m \u001b[0ma\u001b[0m \u001b[0;32min\u001b[0m \u001b[0mlist\u001b[0m\u001b[0;34m]\u001b[0m\u001b[0;34m\u001b[0m\u001b[0;34m\u001b[0m\u001b[0m\n\u001b[1;32m      9\u001b[0m \u001b[0;34m\u001b[0m\u001b[0m\n",
            "\u001b[0;32m<ipython-input-96-f7beda56d80c>\u001b[0m in \u001b[0;36m<listcomp>\u001b[0;34m(.0)\u001b[0m\n\u001b[1;32m      5\u001b[0m \u001b[0;31m#typecasting of list\u001b[0m\u001b[0;34m\u001b[0m\u001b[0;34m\u001b[0m\u001b[0m\n\u001b[1;32m      6\u001b[0m \u001b[0mint_list\u001b[0m \u001b[0;34m=\u001b[0m \u001b[0;34m[\u001b[0m\u001b[0mint\u001b[0m\u001b[0;34m(\u001b[0m\u001b[0ma\u001b[0m\u001b[0;34m)\u001b[0m \u001b[0;32mfor\u001b[0m \u001b[0ma\u001b[0m \u001b[0;32min\u001b[0m \u001b[0mlist\u001b[0m\u001b[0;34m]\u001b[0m\u001b[0;34m\u001b[0m\u001b[0;34m\u001b[0m\u001b[0m\n\u001b[0;32m----> 7\u001b[0;31m \u001b[0mstr_list\u001b[0m \u001b[0;34m=\u001b[0m \u001b[0;34m[\u001b[0m\u001b[0mstr\u001b[0m\u001b[0;34m(\u001b[0m\u001b[0ma\u001b[0m\u001b[0;34m)\u001b[0m \u001b[0;32mfor\u001b[0m \u001b[0ma\u001b[0m \u001b[0;32min\u001b[0m \u001b[0mlist\u001b[0m\u001b[0;34m]\u001b[0m\u001b[0;34m\u001b[0m\u001b[0;34m\u001b[0m\u001b[0m\n\u001b[0m\u001b[1;32m      8\u001b[0m \u001b[0mfloat_list\u001b[0m \u001b[0;34m=\u001b[0m \u001b[0;34m[\u001b[0m\u001b[0mfloat\u001b[0m\u001b[0;34m(\u001b[0m\u001b[0ma\u001b[0m\u001b[0;34m)\u001b[0m \u001b[0;32mfor\u001b[0m \u001b[0ma\u001b[0m \u001b[0;32min\u001b[0m \u001b[0mlist\u001b[0m\u001b[0;34m]\u001b[0m\u001b[0;34m\u001b[0m\u001b[0;34m\u001b[0m\u001b[0m\n\u001b[1;32m      9\u001b[0m \u001b[0;34m\u001b[0m\u001b[0m\n",
            "\u001b[0;31mTypeError\u001b[0m: 'str' object is not callable"
          ]
        }
      ]
    },
    {
      "cell_type": "code",
      "source": [
        "#Q.11-Write a program that checks if a number is positive, negative, or zero\n",
        "\n",
        "num =float(input(\"enter any number\"))\n",
        "if num>0:\n",
        "  print(\"number is positive \")\n",
        "elif num<0:\n",
        "   print(\"number is negative\")\n",
        "else:\n",
        "  print(\"number is zero\")\n"
      ],
      "metadata": {
        "id": "pbkkZ9tLTkPH",
        "colab": {
          "base_uri": "https://localhost:8080/"
        },
        "outputId": "87eb0a88-6bd5-4d12-f684-b0d6858ba470"
      },
      "execution_count": null,
      "outputs": [
        {
          "output_type": "stream",
          "name": "stdout",
          "text": [
            "enter any number-3\n",
            "number is negative\n"
          ]
        }
      ]
    },
    {
      "cell_type": "code",
      "source": [
        "#Q.12-  Write a for loop to print numbers from 1 to 10\n",
        "\n",
        "num=10\n",
        "a=1\n",
        "while a<=num:\n",
        "  print(a , end=\" \")\n",
        "  a=a+1"
      ],
      "metadata": {
        "colab": {
          "base_uri": "https://localhost:8080/"
        },
        "id": "NnOgZCBYEwk2",
        "outputId": "75809a00-6384-47bd-af7e-0fa0a071d0e9"
      },
      "execution_count": 38,
      "outputs": [
        {
          "output_type": "stream",
          "name": "stdout",
          "text": [
            "1 2 3 4 5 6 7 8 9 10 "
          ]
        }
      ]
    },
    {
      "cell_type": "code",
      "source": [
        "#Q.13-Write a Python program to find the sum of all even numbers between 1 and 50\n",
        "\n",
        "num=50\n",
        "a=1\n",
        "sum = 0 # Initialize sum\n",
        "while a<num:\n",
        "  if((a % 2==0) & (a>0)):\n",
        "    sum=a+sum\n",
        "    print(sum , end=\" \")\n",
        "  a += 1\n",
        "\n",
        "\n"
      ],
      "metadata": {
        "colab": {
          "base_uri": "https://localhost:8080/"
        },
        "id": "fGYoRcPgFCcD",
        "outputId": "38d19a26-c868-4cb0-d7c8-f67aef290cea"
      },
      "execution_count": 56,
      "outputs": [
        {
          "output_type": "stream",
          "name": "stdout",
          "text": [
            "2 6 12 20 30 42 56 72 90 110 132 156 182 210 240 272 306 342 380 420 462 506 552 600 "
          ]
        }
      ]
    },
    {
      "cell_type": "code",
      "source": [
        "#Q.14- Write a program to reverse a string using a while loop\n",
        "\n",
        "str=\"Archana Yadav\"\n",
        "print(\"original string-\",str,end=\"\")\n",
        "print()\n",
        "print(\"Reservie String is -\", end=\"\")\n",
        "Reverse=\"\"\n",
        "count=len(str)\n",
        "while count>0:\n",
        "  Reserve= Reverse+str[count-1]\n",
        "  count=count-1\n",
        "  print(Reserve, end=\"\")\n"
      ],
      "metadata": {
        "id": "0EcIcLmNT3R0",
        "colab": {
          "base_uri": "https://localhost:8080/"
        },
        "outputId": "220a8ac3-6ada-408e-a1e3-7a2b03e2ac08"
      },
      "execution_count": 73,
      "outputs": [
        {
          "output_type": "stream",
          "name": "stdout",
          "text": [
            "original string- Archana Yadav\n",
            "Reservie String is -vadaY anahcrA"
          ]
        }
      ]
    },
    {
      "cell_type": "code",
      "source": [
        "#Q.15-Write a Python program to calculate the factorial of a number provided by the user using a while loop.\n",
        "\n",
        "num=int(input(\"enter the number-\"))\n",
        "if num<0:\n",
        "  print(\"factorial does not exit\")\n",
        "else:\n",
        "  fact=1\n",
        "  i=num\n",
        "  print(\"factorial of number is -\", end=\"\")\n",
        "  while i>1:\n",
        "    fact=fact*i\n",
        "    i=i-1\n",
        "    print(fact )\n"
      ],
      "metadata": {
        "id": "X2Bv0T-VT7uS",
        "colab": {
          "base_uri": "https://localhost:8080/"
        },
        "outputId": "726f4bbd-7e05-4bec-ccdb-e11048c659a3"
      },
      "execution_count": 91,
      "outputs": [
        {
          "output_type": "stream",
          "name": "stdout",
          "text": [
            "enter the number-4\n",
            "factorial of number is -4\n",
            "12\n",
            "24\n"
          ]
        }
      ]
    }
  ]
}